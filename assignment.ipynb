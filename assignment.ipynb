{
 "cells": [
  {
   "cell_type": "code",
   "execution_count": null,
   "id": "140e3f18-2611-4fbd-b79a-27e23d13bbfa",
   "metadata": {},
   "outputs": [],
   "source": [
    "Q1. What is Statistics?"
   ]
  },
  {
   "cell_type": "code",
   "execution_count": null,
   "id": "c6ad8f96-17d7-49d9-bcdc-1c6afe85009e",
   "metadata": {},
   "outputs": [],
   "source": [
    "Statistics is the science concerned with developing and studying methods for collecting, analyzing, interpreting\n",
    " data."
   ]
  },
  {
   "cell_type": "code",
   "execution_count": null,
   "id": "0785c07b-3849-42f6-bd4f-0864fd90c7c8",
   "metadata": {},
   "outputs": [],
   "source": [
    "Q2. Define the different types of statistics and give an example of when each type might be used."
   ]
  },
  {
   "cell_type": "code",
   "execution_count": null,
   "id": "49b2637d-0597-45e6-8c75-a29aac1af923",
   "metadata": {},
   "outputs": [],
   "source": [
    "there are 2 types \n",
    "Descriptive statistics- it consist of organising and summarise data .Descriptive statistics uses data that \n",
    "provides a description of the population either through numerical calculated graphs or tables. It provides a\n",
    "graphical summary of data.\n",
    "Example-Suppose the marks of students belonging to class A are {70, 85, 90, 65) . Then the average marks of\n",
    "each class can be given by the mean as 77.5\n",
    "Infrential staticstics-it consist of data that is use to find conclusion.\n",
    "Example-You randomly select a sample of 11th graders in your state and collect data on their SAT scores.\n"
   ]
  },
  {
   "cell_type": "code",
   "execution_count": null,
   "id": "504976d3-ddb1-4b23-9f86-467bb07d222f",
   "metadata": {},
   "outputs": [],
   "source": [
    "Q3. What are the different types of data and how do they differ from each other? Provide an example of\n",
    "each type of data."
   ]
  },
  {
   "cell_type": "code",
   "execution_count": null,
   "id": "ed1c4105-90c0-4e45-9fc9-b7b1eae88470",
   "metadata": {},
   "outputs": [],
   "source": [
    "there are 2 major type of data \n",
    "1. Quantitative Data\n",
    "Quantitative data is numerical and can be measured. It is divided into two subtypes: discrete and continuous.\n",
    "\n",
    "a. Discrete Data\n",
    "Discrete data represents countable items. It includes integers and finite values.\n",
    "Example:\n",
    "Number of students in a class (e.g., 25, 30)\n",
    "Number of cars in a parking lot (e.g., 10, 15)\n",
    "\n",
    "b. Continuous Data\n",
    "Continuous data represents measurements and can take any value within a range. It includes real numbers.\n",
    "Example:\n",
    "Height of students (e.g., 150.5 cm, 175.8 cm)\n",
    "Time taken to complete a task (e.g., 12.5 minutes, 20.7 minutes)\n",
    "\n",
    "2. Qualitative Data\n",
    "Qualitative data is descriptive and cannot be measured numerically. It is divided into two subtypes: \n",
    "nominal and ordinal.\n",
    "\n",
    "a. Nominal Data\n",
    "Nominal data represents categories without any intrinsic order. It is qualitative and non-numerical.\n",
    "\n",
    "Example:\n",
    "Types of fruits (e.g., apple, banana, cherry)\n",
    "Blood types (e.g., A, B, AB, O)\n",
    "\n",
    "b. Ordinal Data\n",
    "Ordinal data represents ordered categories. The order is meaningful, but the intervals between the categories\n",
    "are not necessarily equal.\n",
    "\n",
    "Example:\n",
    "Customer satisfaction ratings (e.g., very satisfied, satisfied, neutral, dissatisfied, very dissatisfied)\n",
    "                                                                                                                                                                            "
   ]
  },
  {
   "cell_type": "code",
   "execution_count": null,
   "id": "064c7835-02b4-4243-a080-29e3489c0df2",
   "metadata": {},
   "outputs": [],
   "source": [
    "Q4. Categorise the following datasets with respect to quantitative and qualitative data types:\n",
    "(i) Grading in exam: A+, A, B+, B, C+, C, D, E\n",
    "(ii) Colour of mangoes: yellow, green, orange, red\n",
    "(iii) Height data of a class: [178.9, 179, 179.5, 176, 177.2, 178.3, 175.8,...]\n",
    "(iv) Number of mangoes exported by a farm: [500, 600, 478, 672, ...]"
   ]
  },
  {
   "cell_type": "code",
   "execution_count": null,
   "id": "5ce511c1-a396-41e8-aa06-ecbe7cda3bc8",
   "metadata": {},
   "outputs": [],
   "source": [
    "(i) Grading in exam: A+, A, B+, B, C+, C, D, E- Q\n",
    "ordinal data.\n",
    "(ii) Colour of mangoes: yellow, green, orange, red\n",
    "Nominal Data\n",
    "(iii) Height data of a class: [178.9, 179, 179.5, 176, 177.2, 178.3, 175.8,...]\n",
    " Continuous Data\n",
    "(iv) Number of mangoes exported by a farm: [500, 600, 478, 672, ...]\n",
    "Discrete data"
   ]
  },
  {
   "cell_type": "code",
   "execution_count": null,
   "id": "eae57248-c02e-4a9b-b41c-f5dc1a7cdadb",
   "metadata": {},
   "outputs": [],
   "source": [
    "Q5. Explain the concept of levels of measurement and give an example of a variable for each level."
   ]
  },
  {
   "cell_type": "code",
   "execution_count": null,
   "id": "ad6bb7d5-c2f7-4ec3-84a2-c087ea7f6880",
   "metadata": {},
   "outputs": [],
   "source": [
    "Nominal Data\n",
    "Ordinal Data\n",
    "Interval Data\n",
    "Ratio Data\n",
    "\n",
    ". Nominal Data\n",
    "Nominal data/ categorical data, represents categories . It is qualitative and cannot be ordered or ranked.\n",
    "Example:\n",
    "Colors of cars (e.g., red, blue, green)\n",
    "Types of fruits (e.g., apple, banana, cherry)\n",
    "\n",
    "2. Ordinal Data\n",
    "Ordinal data is similar to nominal data but with a meaningful order or ranking. However, the differences between\n",
    "the ranks are not necessarily equal.\n",
    "Example:\n",
    "Customer satisfaction ratings (e.g., very satisfied, satisfied, neutral, dissatisfied, very dissatisfied)\n",
    "Education levels (e.g., high school, bachelor's, master's, PhD)\n",
    "\n",
    "3. Interval Data\n",
    "Interval data is numerical data with equal intervals between values, but it lacks a true zero point.\n",
    "This means you can measure the difference between values, but you cannot make meaningful statements about ratios.\n",
    "Example:\n",
    "Temperature in Celsius or Fahrenheit (e.g., 20°C, 30°C)\n",
    "Dates (e.g., years 2000, 2010, 2020)\n",
    "\n",
    "4. Ratio Data\n",
    "Ratio data is similar to interval data but with a true zero point, allowing for meaningful statements about \n",
    "ratios.\n",
    "\n",
    "Example:\n",
    "Height (e.g., 150 cm, 180 cm)\n",
    "Weight (e.g., 50 kg, 70 kg)\n",
    "Age (e.g., 20 years, 35 years)"
   ]
  },
  {
   "cell_type": "code",
   "execution_count": null,
   "id": "626edb37-ba34-4274-935b-7e0e1925d83e",
   "metadata": {},
   "outputs": [],
   "source": [
    "Q6. Why is it important to understand the level of measurement when analyzing data? Provide an\n",
    "example to illustrate your answer."
   ]
  },
  {
   "cell_type": "code",
   "execution_count": null,
   "id": "b86e203e-eddf-4e5d-a7e4-89f5ae82f465",
   "metadata": {},
   "outputs": [],
   "source": [
    "The level at which you measure a variable determines how you can analyze your data. Depending on the level \n",
    "of measurement, you can perform different descriptive statistics to get an overall summary of your data \n",
    "and inferential statistics to see if your results support or refute your hypothesis."
   ]
  },
  {
   "cell_type": "code",
   "execution_count": null,
   "id": "d9ef705d-c4f0-4d58-9056-71b8d9666ad0",
   "metadata": {},
   "outputs": [],
   "source": [
    "Q7. How nominal data type is different from ordinal data type."
   ]
  },
  {
   "cell_type": "code",
   "execution_count": null,
   "id": "fc89d5c9-fb6a-4e2f-9355-76ac4a7e94be",
   "metadata": {},
   "outputs": [],
   "source": [
    ". Nominal Data\n",
    "Nominal data/ categorical data, represents categories . It is qualitative and cannot be ordered or ranked.\n",
    "Example:\n",
    "Colors of cars (e.g., red, blue, green)\n",
    "Types of fruits (e.g., apple, banana, cherry)\n",
    "\n",
    "2. Ordinal Data\n",
    "Ordinal data have a meaningful order or ranking. However, the differences between\n",
    "the ranks are not necessarily equal.\n",
    "Example:\n",
    "Customer satisfaction ratings (e.g., very satisfied, satisfied, neutral, dissatisfied, very dissatisfied)\n",
    "Education levels (e.g., high school, bachelor's, master's, PhD)"
   ]
  },
  {
   "cell_type": "code",
   "execution_count": null,
   "id": "6f9b49c6-b449-49fa-a251-a63eb5f2da32",
   "metadata": {},
   "outputs": [],
   "source": [
    "Q8. Which type of plot can be used to display data in terms of range?"
   ]
  },
  {
   "cell_type": "code",
   "execution_count": null,
   "id": "f86e091f-fc02-431d-90a6-6962d0f805b7",
   "metadata": {},
   "outputs": [],
   "source": [
    "Histograms,A box plot, can be used to display data in terms of range are used in statistics"
   ]
  },
  {
   "cell_type": "code",
   "execution_count": null,
   "id": "1c36ec18-b60a-4fa8-b0fb-efeb60120f0c",
   "metadata": {},
   "outputs": [],
   "source": [
    "Q9. Describe the difference between descriptive and inferential statistics. Give an example of each\n",
    "type of statistics and explain how they are used."
   ]
  },
  {
   "cell_type": "code",
   "execution_count": null,
   "id": "6a395f4c-6952-4e13-98bd-c361fde3eaea",
   "metadata": {},
   "outputs": [],
   "source": [
    "Descriptive Statistics consist of organizing and summarizing data. Descriptive statistics utilizes data to \n",
    "describe the population through numerical calculations, graphs, or tables, providing a graphical summary of\n",
    "the data. For instance, if the marks of students in class A are {70, 85, 90, 65}, the average marks for the\n",
    "class can be determined as 77.5.\n",
    "\n",
    "Inferential statistics involve data used to draw conclusions. For example, if you randomly select a sample of \n",
    "11th graders in your state and gather data on their SAT scores."
   ]
  },
  {
   "cell_type": "code",
   "execution_count": null,
   "id": "9657445f-57a9-455c-bd42-f1eab4bdd4a3",
   "metadata": {},
   "outputs": [],
   "source": [
    "Q10. What are some common measures of central tendency and variability used in statistics? Explain\n",
    "how each measure can be used to describe a dataset."
   ]
  },
  {
   "cell_type": "code",
   "execution_count": null,
   "id": "6dc34d5d-59f3-49d7-ab1f-1416ba717447",
   "metadata": {},
   "outputs": [],
   "source": [
    "Measures of central tendency include mean, median, and mode.\n",
    "The mean is calculated by adding up all values in a dataset and dividing by the number of values. It provides\n",
    "the average value and is sensitive to extreme values.\n",
    "Ex-Suppose the marks of students belonging to class A are {70, 85, 90, 65) . Then the average marks of\n",
    "each class can be given by the mean as 77.5\n",
    "\n",
    "The median is the middle value when the data is ordered,and it is not affected by extreme values.\n",
    "Ex-Suppose the marks of students belonging to class A are {70, 85, 90, 65) . Then the median is  67.5.                                                           \n",
    "\n",
    "The mode is the most frequently occurring value in the dataset.\n",
    "\n",
    "Measures of variability include range, variance, and standard deviation.\n",
    "The range is the difference between the maximum and minimum values in the dataset, providing a rough indication\n",
    "of the spread of data.\n",
    "Ex- class A are {70, 85, 90, 65) . Then the range is    90-65 =25                                                      \n",
    "\n",
    "Variance is the average of the squared differences between each value and the mean, giving a measure of how \n",
    "spread out thevalues are from the mean.\n",
    "Ex-class A are {70, 85, 90, 65) . Then the varience is 268.75 \n",
    "\n",
    "Standard deviation is the square root of the variance and is commonly used because it is in the same units as\n",
    "the original data."
   ]
  }
 ],
 "metadata": {
  "kernelspec": {
   "display_name": "Python 3 (ipykernel)",
   "language": "python",
   "name": "python3"
  },
  "language_info": {
   "codemirror_mode": {
    "name": "ipython",
    "version": 3
   },
   "file_extension": ".py",
   "mimetype": "text/x-python",
   "name": "python",
   "nbconvert_exporter": "python",
   "pygments_lexer": "ipython3",
   "version": "3.10.8"
  }
 },
 "nbformat": 4,
 "nbformat_minor": 5
}
